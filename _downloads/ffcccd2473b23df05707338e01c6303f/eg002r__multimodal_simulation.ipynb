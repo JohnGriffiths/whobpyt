{
  "cells": [
    {
      "cell_type": "code",
      "execution_count": null,
      "metadata": {
        "collapsed": false
      },
      "outputs": [],
      "source": [
        "%matplotlib inline"
      ]
    },
    {
      "cell_type": "markdown",
      "metadata": {},
      "source": [
        "\n# Fitting S_E Mean to 0.164 using default RWW Parameters\n\nWhat is being modeled:\n\n- Created a Sphere'd Cube (chosen points on cube projected onto radius = 1 sphere), so that regions were more evently distributed. All corners of cube chosen as regions, thus there are 8 regions. \n\n- EEG channels located on the center of each face of the cube. Thus there are 6 EEG channels.\n\n- Added some randomness to initial values - to decorrelate the signals a bit. Looking for FC matrix to look similar to SC matrix.\n"
      ]
    },
    {
      "cell_type": "code",
      "execution_count": null,
      "metadata": {
        "collapsed": false
      },
      "outputs": [],
      "source": [
        ""
      ]
    },
    {
      "cell_type": "markdown",
      "metadata": {},
      "source": [
        "## Importage\n\n\n"
      ]
    },
    {
      "cell_type": "code",
      "execution_count": null,
      "metadata": {
        "collapsed": false
      },
      "outputs": [],
      "source": [
        "# whobpyt stuff\nimport whobpyt\nfrom whobpyt.datatypes import par, Recording\nfrom whobpyt.models.RWWEI2 import RWWEI2_EEG_BOLD, RWWEI2_EEG_BOLD_np, RWWEI2, RWWEI2_np, ParamsRWWEI2\nfrom whobpyt.models.BOLD import BOLD_Layer, BOLD_np, BOLD_Params\nfrom whobpyt.models.EEG import EEG_Layer, EEG_np, EEG_Params\nfrom whobpyt.optimization import CostsFC, CostsPSD, CostsMean, CostsFixedFC, CostsFixedPSD\nfrom whobpyt.run import Model_fitting\nfrom whobpyt.data.generators import gen_cube\n\n# general python stuff\nimport torch\nimport numpy as np\nimport pandas as pd\n\n# viz stuff\nimport seaborn as sns\nimport matplotlib.pyplot as plt\n\nprint(\"Is cuda avaliable?\")\nprint(torch.cuda.is_available())\n\ndevice = torch.device(\"cpu\") #Options: \"cpu\" or \"cuda\""
      ]
    },
    {
      "cell_type": "markdown",
      "metadata": {},
      "source": [
        "## Defining Model Parameters\n\n\n"
      ]
    },
    {
      "cell_type": "code",
      "execution_count": null,
      "metadata": {
        "collapsed": false
      },
      "outputs": [],
      "source": [
        "num_regions = 8\nnum_channels = 6\n\n# Simulation Length\nstep_size = 0.1 # Step Size in msecs\nsim_len = 1500 # Simulation length in msecs\n\nskip_trans = int(500/step_size)\n\n# Initial Conditions\nS_E = 0.6; S_I = 0.1; x = 0.0000; f = 2.4286; v = 1.3283; q = 0.6144 # x,f,v,q might be choosen for different initial S_E\ninit_state = torch.tensor([[S_E, S_I, x, f, v, q]]).repeat(num_regions, 1)\n\n# Add randomness\ninit_state = (init_state + torch.randn_like(init_state)/30).to(device) # Randomizing initial values\n\n# Create a RWW Params\nparamsNode = ParamsRWWEI2(num_regions)\n\n#Create #EEG Params\nparamsEEG = EEG_Params(torch.eye(num_regions))\nparamsEEG.to(device)\n\n#Create BOLD Params\nparamsBOLD = BOLD_Params()\nparamsBOLD.to(device)\n\nparamsNode.J = par((0.15  * np.ones(num_regions)), fit_par = True, asLog = True) #This is a parameter that will be updated during training\nparamsNode.to(device)"
      ]
    },
    {
      "cell_type": "markdown",
      "metadata": {},
      "source": [
        "## Using the Synthetic Cube Data For Demo Purposes\n\n\n"
      ]
    },
    {
      "cell_type": "code",
      "execution_count": null,
      "metadata": {
        "collapsed": false
      },
      "outputs": [],
      "source": [
        "syntheticCubeInfo = gen_cube(device)\n\nCon_Mtx = syntheticCubeInfo[\"SC\"]\ndist_mtx = syntheticCubeInfo[\"dist\"]\nLF_Norm = syntheticCubeInfo[\"LF\"]\n\nprint(max(abs(torch.linalg.eig(Con_Mtx).eigenvalues)))\nmask = np.eye(num_regions)\nsns.heatmap(Con_Mtx.to(torch.device(\"cpu\")), mask = mask, center=0, cmap='RdBu_r', vmin=-0.1, vmax = 0.25)\nplt.title(\"SC of Artificial Data\")\n\nparamsEEG.LF = LF_Norm"
      ]
    },
    {
      "cell_type": "markdown",
      "metadata": {},
      "source": [
        "## Defining the CNMM Model\n\nThe Multi-Modal Model\n\n"
      ]
    },
    {
      "cell_type": "code",
      "execution_count": null,
      "metadata": {
        "collapsed": false
      },
      "outputs": [],
      "source": [
        "model = RWWEI2_EEG_BOLD(num_regions, num_channels, paramsNode, paramsEEG, paramsBOLD, Con_Mtx, dist_mtx, step_size, sim_len, device = device)"
      ]
    },
    {
      "cell_type": "markdown",
      "metadata": {},
      "source": [
        "## Defining the Objective Function\n\nWritten in such as way as to be able to adjust the relative importance of components that make up the objective function.\nAlso, written in such a way as to be able to track and plot indiviual components losses over time. \n\n"
      ]
    },
    {
      "cell_type": "code",
      "execution_count": null,
      "metadata": {
        "collapsed": false
      },
      "outputs": [],
      "source": [
        "class mmObjectiveFunction():\n    def __init__(self):\n        self.simKey = \"E\"\n    \n        # Weights of Objective Function Components\n        self.S_E_mean_weight = 1\n        self.S_I_mean_weight = 0 # Not Currently Used\n        self.EEG_PSD_weight = 0 # Not Currently Used\n        self.EEG_FC_weight = 0 # Not Currently Used\n        self.BOLD_PSD_weight = 0 # Not Currently Used\n        self.BOLD_FC_weight = 0 # Not Currently Used\n        \n        # Functions of the various Objective Function Components\n        self.S_E_mean = CostsMean(num_regions, simKey = \"E\", targetValue = torch.tensor([0.164]), device = device)\n        #self.S_I_mean = CostsMean(...) # Not Currently Used\n        #self.EEG_PSD = CostsPSD(num_channels, varIdx = 0, sampleFreqHz = 1000*(1/step_size), targetValue = targetEEG)\n        #self.EEG_FC = CostsFC(...) # Not Currently Used\n        #self.BOLD_PSD = CostsPSD(...) # Not Currently Used\n        #self.BOLD_FC = CostsFC(num_regions, varIdx = 4, targetValue = SC_mtx_norm)\n                \n    def loss(self, simData, empData = None, returnLossComponents = False):\n        # sim, ts_window, self.model, next_window\n        \n        S_E_mean_loss = self.S_E_mean.loss(simData) \n        S_I_mean_loss = torch.tensor([0]).to(device) #self.S_I_mean.loss(simData)\n        EEG_PSD_loss = torch.tensor([0]).to(device) #self.EEG_PSD.loss(simData) \n        EEG_FC_loss = torch.tensor([0]).to(device) #self.EEG_FC.loss(simData)\n        BOLD_PSD_loss = torch.tensor([0]).to(device) #self.BOLD_PS.loss(simData)\n        BOLD_FC_loss = torch.tensor([0]).to(device) #self.BOLD_FC.loss(simData)\n                \n        totalLoss = self.S_E_mean_weight*S_E_mean_loss + self.S_I_mean_weight*S_I_mean_loss \\\n                  + self.EEG_PSD_weight*EEG_PSD_loss   + self.EEG_FC_weight*EEG_FC_loss \\\n                  + self.BOLD_PSD_weight*BOLD_PSD_loss + self.BOLD_FC_weight*BOLD_FC_loss\n                 \n        if returnLossComponents:\n            return totalLoss, (S_E_mean_loss.item(), S_I_mean_loss.item(), EEG_PSD_loss.item(), EEG_FC_loss.item(), BOLD_PSD_loss.item(), BOLD_FC_loss.item())\n        else:\n            return totalLoss\n\nObjFun = mmObjectiveFunction()"
      ]
    },
    {
      "cell_type": "markdown",
      "metadata": {},
      "source": [
        "## Training The Model\n\n\n"
      ]
    },
    {
      "cell_type": "code",
      "execution_count": null,
      "metadata": {
        "collapsed": false
      },
      "outputs": [],
      "source": [
        "randData1 = np.random.rand(8, 15000)\nrandData2 = np.random.rand(8, 15000)\nnum_epochs = 3\nnum_recordings = 2\nTPperWindow = 15000\n\nprint(randData1.shape)\nrandTS1 = Recording(randData1, step_size)\nrandTS2 = Recording(randData2, step_size)\n\n# call model fit\nF = Model_fitting(model, ObjFun, device = device)"
      ]
    },
    {
      "cell_type": "markdown",
      "metadata": {},
      "source": [
        "model training\n\n"
      ]
    },
    {
      "cell_type": "code",
      "execution_count": null,
      "metadata": {
        "collapsed": false
      },
      "outputs": [],
      "source": [
        "F.train(u = 0, empRecs = [randTS1, randTS2], num_epochs = num_epochs, TPperWindow = TPperWindow, learningrate = 0.1)"
      ]
    },
    {
      "cell_type": "markdown",
      "metadata": {},
      "source": [
        "Plots of loss over Training\n\n"
      ]
    },
    {
      "cell_type": "code",
      "execution_count": null,
      "metadata": {
        "collapsed": false
      },
      "outputs": [],
      "source": [
        "plt.plot(np.arange(1,len(F.trainingStats.loss)+1), F.trainingStats.loss)\nplt.title(\"Total Loss over Training Epochs\")"
      ]
    },
    {
      "cell_type": "markdown",
      "metadata": {},
      "source": [
        "Plots of J values over Training\n\n"
      ]
    },
    {
      "cell_type": "code",
      "execution_count": null,
      "metadata": {
        "collapsed": false
      },
      "outputs": [],
      "source": [
        "plt.plot(F.trainingStats.fit_params['J'])\nplt.title(\"J_{i} Values Changing Over Training Epochs\")"
      ]
    },
    {
      "cell_type": "markdown",
      "metadata": {},
      "source": [
        "## Model Simulation\n\n\n"
      ]
    },
    {
      "cell_type": "code",
      "execution_count": null,
      "metadata": {
        "collapsed": false
      },
      "outputs": [],
      "source": [
        "F.simulate(u = 0, numTP = randTS1.length)"
      ]
    },
    {
      "cell_type": "markdown",
      "metadata": {},
      "source": [
        "Plots of S_E and S_I\n\n"
      ]
    },
    {
      "cell_type": "code",
      "execution_count": null,
      "metadata": {
        "collapsed": false
      },
      "outputs": [],
      "source": [
        "plt.figure(figsize = (16, 8))\nplt.title(\"S_E and S_I\")\nfor n in range(num_regions):\n    plt.plot(F.lastRec['E'].npTS()[n,:], label = \"S_E Node = \" + str(n))\n    plt.plot(F.lastRec['I'].npTS()[n,:], label = \"S_I Node = \" + str(n))\n\nplt.xlabel('Time Steps (multiply by step_size to get msec), step_size = ' + str(step_size))\nplt.legend()"
      ]
    },
    {
      "cell_type": "markdown",
      "metadata": {},
      "source": [
        "Plots of EEG PSD\n\n\n"
      ]
    },
    {
      "cell_type": "code",
      "execution_count": null,
      "metadata": {
        "collapsed": false
      },
      "outputs": [],
      "source": [
        "sampleFreqHz = 1000*(1/step_size)\nsdAxis, sdValues = CostsPSD.calcPSD(torch.tensor(F.lastRec['eeg'].npTS().T), sampleFreqHz, minFreq = 2, maxFreq = 40)\nsdAxis_dS, sdValues_dS = CostsPSD.downSmoothPSD(sdAxis, sdValues, 32)\nsdAxis_dS, sdValues_dS_scaled = CostsPSD.scalePSD(sdAxis_dS, sdValues_dS)\n\nplt.figure()\nfor n in range(num_channels):\n    plt.plot(sdAxis_dS, sdValues_dS_scaled.detach()[:,n])\nplt.xlabel('Hz')\nplt.ylabel('PSD')\nplt.title(\"Simulated EEG PSD: After Training\")"
      ]
    },
    {
      "cell_type": "markdown",
      "metadata": {},
      "source": [
        "Plots of BOLD FC\n\n\n"
      ]
    },
    {
      "cell_type": "code",
      "execution_count": null,
      "metadata": {
        "collapsed": false
      },
      "outputs": [],
      "source": [
        "sim_FC = np.corrcoef(F.lastRec['bold'].npTS()[:,skip_trans:])\n\nplt.figure(figsize = (8, 8))\nplt.title(\"Simulated BOLD FC: After Training\")\nmask = np.eye(num_regions)\nsns.heatmap(sim_FC, mask = mask, center=0, cmap='RdBu_r', vmin=-1.0, vmax = 1.0)"
      ]
    },
    {
      "cell_type": "markdown",
      "metadata": {},
      "source": [
        "## CNMM Validation Model\n\nThe Multi-Modal Model\n\n"
      ]
    },
    {
      "cell_type": "code",
      "execution_count": null,
      "metadata": {
        "collapsed": false
      },
      "outputs": [],
      "source": [
        "model.eeg.params.LF = model.eeg.params.LF.cpu()\n\nval_sim_len = 20*1000 # Simulation length in msecs\nmodel_validate = RWWEI2_EEG_BOLD_np(num_regions, num_channels, model.params, model.eeg.params, model.bold.params, Con_Mtx.detach().cpu().numpy(), dist_mtx.detach().cpu().numpy(), step_size, val_sim_len)\n\nsim_vals, hE = model_validate.forward(external = 0, hx = model_validate.createIC(ver = 0), hE = 0)"
      ]
    },
    {
      "cell_type": "markdown",
      "metadata": {},
      "source": [
        "Plots of S_E and S_I Validation\n\n\n"
      ]
    },
    {
      "cell_type": "code",
      "execution_count": null,
      "metadata": {
        "collapsed": false
      },
      "outputs": [],
      "source": [
        "plt.figure(figsize = (16, 8))\nplt.title(\"S_E and S_I\")\nfor n in range(num_regions):\n    plt.plot(sim_vals['E'], label = \"S_E Node = \" + str(n))\n    plt.plot(sim_vals['I'], label = \"S_I Node = \" + str(n))\n\nplt.xlabel('Time Steps (multiply by step_size to get msec), step_size = ' + str(step_size))\nplt.legend()"
      ]
    },
    {
      "cell_type": "markdown",
      "metadata": {},
      "source": [
        "Plots of EEG PSD Validation\n\n\n"
      ]
    },
    {
      "cell_type": "code",
      "execution_count": null,
      "metadata": {
        "collapsed": false
      },
      "outputs": [],
      "source": [
        "sampleFreqHz = 1000*(1/step_size)\nsdAxis, sdValues = CostsPSD.calcPSD(torch.tensor(sim_vals['eeg']), sampleFreqHz, minFreq = 2, maxFreq = 40)\nsdAxis_dS, sdValues_dS = CostsPSD.downSmoothPSD(sdAxis, sdValues, 32)\nsdAxis_dS, sdValues_dS_scaled = CostsPSD.scalePSD(sdAxis_dS, sdValues_dS)\n\nplt.figure()\nfor n in range(num_channels):\n    plt.plot(sdAxis_dS, sdValues_dS_scaled.detach()[:,n])\nplt.xlabel('Hz')\nplt.ylabel('PSD')\nplt.title(\"Simulated EEG PSD: After Training\")"
      ]
    },
    {
      "cell_type": "markdown",
      "metadata": {},
      "source": [
        "Plots of BOLD FC Validation\n\n\n"
      ]
    },
    {
      "cell_type": "code",
      "execution_count": null,
      "metadata": {
        "collapsed": false
      },
      "outputs": [],
      "source": [
        "sim_FC = np.corrcoef((sim_vals['bold'].T)[:,skip_trans:])\n\nplt.figure(figsize = (8, 8))\nplt.title(\"Simulated BOLD FC: After Training\")\nmask = np.eye(num_regions)\nsns.heatmap(sim_FC, mask = mask, center=0, cmap='RdBu_r', vmin=-1.0, vmax = 1.0)"
      ]
    }
  ],
  "metadata": {
    "kernelspec": {
      "display_name": "Python 3",
      "language": "python",
      "name": "python3"
    },
    "language_info": {
      "codemirror_mode": {
        "name": "ipython",
        "version": 3
      },
      "file_extension": ".py",
      "mimetype": "text/x-python",
      "name": "python",
      "nbconvert_exporter": "python",
      "pygments_lexer": "ipython3",
      "version": "3.9.18"
    }
  },
  "nbformat": 4,
  "nbformat_minor": 0
}