{
  "cells": [
    {
      "cell_type": "code",
      "execution_count": null,
      "metadata": {
        "collapsed": false
      },
      "outputs": [],
      "source": [
        "%matplotlib inline"
      ]
    },
    {
      "cell_type": "markdown",
      "metadata": {},
      "source": [
        "\n# Fitting Wong_Wang model (HCP data)\n"
      ]
    },
    {
      "cell_type": "code",
      "execution_count": null,
      "metadata": {
        "collapsed": false
      },
      "outputs": [],
      "source": [
        ""
      ]
    },
    {
      "cell_type": "markdown",
      "metadata": {},
      "source": [
        "## Importage\n\n\n"
      ]
    },
    {
      "cell_type": "code",
      "execution_count": null,
      "metadata": {
        "collapsed": false
      },
      "outputs": [],
      "source": [
        "# os stuff\nimport os\nimport sys\nsys.path.append('..')\n\n# whobpyt stuff\nimport whobpyt\nfrom whobpyt.data.dataload import dataloader\nfrom whobpyt.models.jansen_rit import RNNJANSEN\nfrom whobpyt.models.wong_wang import RNNRWW\nfrom whobpyt.datatypes.modelparameters import ParamsModel\nfrom whobpyt.optimization.modelfitting import Model_fitting\n\n# array and pd stuff\nimport numpy as np\nimport pandas as pd\n\n\n\n# viz stuff\nimport matplotlib.pyplot as plt\n\n#gdown\nimport gdown"
      ]
    },
    {
      "cell_type": "markdown",
      "metadata": {},
      "source": [
        "define destination path and download data\n\n"
      ]
    },
    {
      "cell_type": "code",
      "execution_count": null,
      "metadata": {
        "collapsed": false
      },
      "outputs": [],
      "source": [
        "des_dir = '../'\nif not os.path.exists(des_dir):\n    os.makedirs(des_dir)  # create folder if it does not exist\nurl = \"https://drive.google.com/drive/folders/18smy3ElTd4VksoL4Z15dhwT5l3yjk6xS\"\nos.chdir(des_dir)\ngdown.download_folder(url, remaining_ok = True)\nos.chdir('examples/')"
      ]
    },
    {
      "cell_type": "markdown",
      "metadata": {},
      "source": [
        "get subject list\n\n"
      ]
    },
    {
      "cell_type": "code",
      "execution_count": null,
      "metadata": {
        "collapsed": false
      },
      "outputs": [],
      "source": [
        "base_dir = '../HCP/'\n#subs =sorted([sc_file[-10:-4] for sc_file in os.listdir(base_dir) if sc_file[:8] == 'weights_'])\nsub = '100307'"
      ]
    },
    {
      "cell_type": "markdown",
      "metadata": {},
      "source": [
        "define options for wong-wang model\n\n"
      ]
    },
    {
      "cell_type": "code",
      "execution_count": null,
      "metadata": {
        "collapsed": false
      },
      "outputs": [],
      "source": [
        "node_size = 83\nmask = np.tril_indices(node_size, -1)\nnum_epoches = 15\nbatch_size = 20\nstep_size = 0.05\ninput_size = 2\ntr = 0.75\nrepeat_size = 5"
      ]
    },
    {
      "cell_type": "markdown",
      "metadata": {},
      "source": [
        "load raw data and get SC empirical BOLD and FC\n\n"
      ]
    },
    {
      "cell_type": "code",
      "execution_count": null,
      "metadata": {
        "collapsed": false
      },
      "outputs": [],
      "source": [
        "sc_file = base_dir + 'weights_' + sub + '.txt'\nts_file = base_dir + sub + '_rfMRI_REST1_LR_hpc200_clean__l2k8_sc33_ts.pkl'  # out_dir+'sub_'+sub+'simBOLD_idt.txt'#\n\n\nsc = np.loadtxt(sc_file)\nSC = (sc + sc.T) * 0.5\nsc = np.log1p(SC) / np.linalg.norm(np.log1p(SC))\n\nts_pd = pd.read_pickle(ts_file)\nts = ts_pd.values\nts = ts / np.max(ts)\nfc_emp = np.corrcoef(ts.T)"
      ]
    },
    {
      "cell_type": "markdown",
      "metadata": {},
      "source": [
        "prepare data structure of the model\n\n"
      ]
    },
    {
      "cell_type": "code",
      "execution_count": null,
      "metadata": {
        "collapsed": false
      },
      "outputs": [],
      "source": [
        "data_mean = dataloader(ts, num_epoches, batch_size)"
      ]
    },
    {
      "cell_type": "markdown",
      "metadata": {},
      "source": [
        "get model parameters structure and define the fitted parameters by setting non-zero variance for the model\n\n"
      ]
    },
    {
      "cell_type": "code",
      "execution_count": null,
      "metadata": {
        "collapsed": false
      },
      "outputs": [],
      "source": [
        "par = ParamsModel('RWW',  g=[400, 1/np.sqrt(10)], g_EE=[1.5, 1/np.sqrt(50)], g_EI =[0.8,1/np.sqrt(50)], \\\n                          g_IE=[0.6,1/np.sqrt(50)], I_0 =[0.2, 0], std_in=[0.0,0], std_out=[0.00,0])"
      ]
    },
    {
      "cell_type": "markdown",
      "metadata": {},
      "source": [
        "call model want to fit\n\n"
      ]
    },
    {
      "cell_type": "code",
      "execution_count": null,
      "metadata": {
        "collapsed": false
      },
      "outputs": [],
      "source": [
        "model = RNNRWW(node_size, batch_size, step_size, repeat_size, tr, sc, True, par)"
      ]
    },
    {
      "cell_type": "markdown",
      "metadata": {},
      "source": [
        "initial model parameters and set the fitted model parameter in Tensors\n\n"
      ]
    },
    {
      "cell_type": "code",
      "execution_count": null,
      "metadata": {
        "collapsed": false
      },
      "outputs": [],
      "source": [
        "model.setModelParameters()"
      ]
    },
    {
      "cell_type": "markdown",
      "metadata": {},
      "source": [
        "call model fit\n\n"
      ]
    },
    {
      "cell_type": "code",
      "execution_count": null,
      "metadata": {
        "collapsed": false
      },
      "outputs": [],
      "source": [
        "F = Model_fitting(model, data_mean, num_epoches, 2)"
      ]
    },
    {
      "cell_type": "markdown",
      "metadata": {},
      "source": [
        "model training\n\n"
      ]
    },
    {
      "cell_type": "code",
      "execution_count": null,
      "metadata": {
        "collapsed": false
      },
      "outputs": [],
      "source": [
        "F.train(learningrate= 0.05)"
      ]
    },
    {
      "cell_type": "markdown",
      "metadata": {},
      "source": [
        "model test with 20 window for warmup\n\n"
      ]
    },
    {
      "cell_type": "code",
      "execution_count": null,
      "metadata": {
        "collapsed": false
      },
      "outputs": [],
      "source": [
        "F.test(20)"
      ]
    },
    {
      "cell_type": "markdown",
      "metadata": {},
      "source": [
        "Plot SC and fitted SC\n\n"
      ]
    },
    {
      "cell_type": "code",
      "execution_count": null,
      "metadata": {
        "collapsed": false
      },
      "outputs": [],
      "source": [
        "fig, ax = plt.subplots(1, 2, figsize=(5, 4))\nim0 = ax[0].imshow(sc, cmap='bwr')\nax[0].set_title('The empirical SC')\nfig.colorbar(im0, ax=ax[0], fraction=0.046, pad=0.04)\nim1 = ax[1].imshow(F.model.sc_fitted.detach().numpy(), cmap='bwr')\nax[1].set_title('The fitted SC')\nfig.colorbar(im1, ax=ax[1], fraction=0.046, pad=0.04)\nplt.show()"
      ]
    },
    {
      "cell_type": "markdown",
      "metadata": {},
      "source": [
        "Plot E I and simulated BOLD\n\n"
      ]
    },
    {
      "cell_type": "code",
      "execution_count": null,
      "metadata": {
        "collapsed": false
      },
      "outputs": [],
      "source": [
        "fig, ax = plt.subplots(1, 3, figsize=(12, 8))\nax[0].plot(F.output_sim.E_test.T)\nax[0].set_title('Test: E')\nax[1].plot(F.output_sim.I_test.T)\nax[1].set_title('Test: I')\nax[2].plot(F.output_sim.bold_test.T)\nax[2].set_title('Test: BOLD')\nplt.show()"
      ]
    },
    {
      "cell_type": "markdown",
      "metadata": {},
      "source": [
        "Plot the FC and the test FC\n\n"
      ]
    },
    {
      "cell_type": "code",
      "execution_count": null,
      "metadata": {
        "collapsed": false
      },
      "outputs": [],
      "source": [
        "fig, ax = plt.subplots(1, 2, figsize=(5, 4))\nim0 = ax[0].imshow(fc_emp, cmap='bwr')\nax[0].set_title('The empirical FC')\nfig.colorbar(im0, ax=ax[0], fraction=0.046, pad=0.04)\nim1 = ax[1].imshow(np.corrcoef(F.output_sim.bold_test), cmap='bwr')\nax[1].set_title('The simulated FC')\nfig.colorbar(im1, ax=ax[1], fraction=0.046, pad=0.04)\nplt.show()"
      ]
    }
  ],
  "metadata": {
    "kernelspec": {
      "display_name": "Python 3",
      "language": "python",
      "name": "python3"
    },
    "language_info": {
      "codemirror_mode": {
        "name": "ipython",
        "version": 3
      },
      "file_extension": ".py",
      "mimetype": "text/x-python",
      "name": "python",
      "nbconvert_exporter": "python",
      "pygments_lexer": "ipython3",
      "version": "3.9.16"
    }
  },
  "nbformat": 4,
  "nbformat_minor": 0
}