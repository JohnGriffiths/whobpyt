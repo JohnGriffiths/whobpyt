{
  "cells": [
    {
      "cell_type": "code",
      "execution_count": null,
      "metadata": {
        "collapsed": false
      },
      "outputs": [],
      "source": [
        "%matplotlib inline"
      ]
    },
    {
      "cell_type": "markdown",
      "metadata": {},
      "source": [
        "\n# Fitting Wong_Wang model (HCP data)\n"
      ]
    },
    {
      "cell_type": "code",
      "execution_count": null,
      "metadata": {
        "collapsed": false
      },
      "outputs": [],
      "source": [
        ""
      ]
    },
    {
      "cell_type": "markdown",
      "metadata": {},
      "source": [
        "## Importage\n\n\n"
      ]
    },
    {
      "cell_type": "code",
      "execution_count": null,
      "metadata": {
        "collapsed": false
      },
      "outputs": [],
      "source": [
        "# os stuff\nimport os\nimport sys\nsys.path.append('..')\n\n# whobpyt stuff\nimport whobpyt\nfrom whobpyt.datatypes import par, Recording\nfrom whobpyt.models.RWW import RNNRWW, ParamsRWW\nfrom whobpyt.optimization.custom_cost_RWW import CostsRWW\nfrom whobpyt.run import Model_fitting\n\n# array and pd stuff\nimport numpy as np\nimport pandas as pd\n\n\n\n# viz stuff\nimport matplotlib.pyplot as plt\n\n#gdown\nimport gdown"
      ]
    },
    {
      "cell_type": "markdown",
      "metadata": {},
      "source": [
        "define destination path and download data\n\n"
      ]
    },
    {
      "cell_type": "code",
      "execution_count": null,
      "metadata": {
        "collapsed": false
      },
      "outputs": [],
      "source": [
        "des_dir = '../'\nif not os.path.exists(des_dir):\n    os.makedirs(des_dir)  # create folder if it does not exist\nurl = \"https://drive.google.com/drive/folders/18smy3ElTd4VksoL4Z15dhwT5l3yjk6xS\"\nos.chdir(des_dir)\ngdown.download_folder(url, remaining_ok = True)\nos.chdir('examples/')"
      ]
    },
    {
      "cell_type": "markdown",
      "metadata": {},
      "source": [
        "get subject list\n\n"
      ]
    },
    {
      "cell_type": "code",
      "execution_count": null,
      "metadata": {
        "collapsed": false
      },
      "outputs": [],
      "source": [
        "base_dir = '../HCP/'\n#subs =sorted([sc_file[-10:-4] for sc_file in os.listdir(base_dir) if sc_file[:8] == 'weights_'])\nsub = '100307'"
      ]
    },
    {
      "cell_type": "markdown",
      "metadata": {},
      "source": [
        "define options for wong-wang model\n\n"
      ]
    },
    {
      "cell_type": "code",
      "execution_count": null,
      "metadata": {
        "collapsed": false
      },
      "outputs": [],
      "source": [
        "node_size = 83\nmask = np.tril_indices(node_size, -1)\nnum_epochs = 5\nTPperWindow = 20\nstep_size = 0.05\ninput_size = 2\ntr = 0.75\nrepeat_size = 5"
      ]
    },
    {
      "cell_type": "markdown",
      "metadata": {},
      "source": [
        "load raw data and get SC empirical BOLD and FC\n\n"
      ]
    },
    {
      "cell_type": "code",
      "execution_count": null,
      "metadata": {
        "collapsed": false
      },
      "outputs": [],
      "source": [
        "sc_file = base_dir + 'weights_' + sub + '.txt'\nts_file = base_dir + sub + '_rfMRI_REST1_LR_hpc200_clean__l2k8_sc33_ts.pkl'  # out_dir+'sub_'+sub+'simBOLD_idt.txt'#\n\n\nsc = np.loadtxt(sc_file)\nSC = (sc + sc.T) * 0.5\nsc = np.log1p(SC) / np.linalg.norm(np.log1p(SC))\n\nts_pd = pd.read_pickle(ts_file)\nts = ts_pd.values\nts = ts / np.max(ts)\nfc_emp = np.corrcoef(ts.T)"
      ]
    },
    {
      "cell_type": "markdown",
      "metadata": {},
      "source": [
        "prepare data structure of the model\n\n"
      ]
    },
    {
      "cell_type": "code",
      "execution_count": null,
      "metadata": {
        "collapsed": false
      },
      "outputs": [],
      "source": [
        "print(ts.T.shape)\nfMRIstep = tr\ndata_mean = Recording(ts.T, fMRIstep) #dataloader(ts, num_epoches, TPperWindow)"
      ]
    },
    {
      "cell_type": "markdown",
      "metadata": {},
      "source": [
        "get model parameters structure and define the fitted parameters by setting non-zero variance for the model\n\n"
      ]
    },
    {
      "cell_type": "code",
      "execution_count": null,
      "metadata": {
        "collapsed": false
      },
      "outputs": [],
      "source": [
        "params = ParamsRWW(g=par(400, 400, 1/np.sqrt(10), True, True), g_EE=par(1.5, 1.5, 1/np.sqrt(50), True, True), g_EI =par(0.8, 0.8, 1/np.sqrt(50), True, True), \\\n                   g_IE=par(0.6, 0.6, 1/np.sqrt(50), True, True), I_0 =par(0.2), std_in=par(0.0), std_out=par(0.00))"
      ]
    },
    {
      "cell_type": "markdown",
      "metadata": {},
      "source": [
        "call model want to fit\n\n"
      ]
    },
    {
      "cell_type": "code",
      "execution_count": null,
      "metadata": {
        "collapsed": false
      },
      "outputs": [],
      "source": [
        "model = RNNRWW(node_size, TPperWindow, step_size, repeat_size, tr, sc, True, params)"
      ]
    },
    {
      "cell_type": "markdown",
      "metadata": {},
      "source": [
        "create objective function\n\n"
      ]
    },
    {
      "cell_type": "code",
      "execution_count": null,
      "metadata": {
        "collapsed": false
      },
      "outputs": [],
      "source": [
        "ObjFun = CostsRWW()"
      ]
    },
    {
      "cell_type": "markdown",
      "metadata": {},
      "source": [
        "call model fit\n\n"
      ]
    },
    {
      "cell_type": "code",
      "execution_count": null,
      "metadata": {
        "collapsed": false
      },
      "outputs": [],
      "source": [
        "F = Model_fitting(model, ObjFun)"
      ]
    },
    {
      "cell_type": "markdown",
      "metadata": {},
      "source": [
        "## Model Training\n\n\n"
      ]
    },
    {
      "cell_type": "code",
      "execution_count": null,
      "metadata": {
        "collapsed": false
      },
      "outputs": [],
      "source": [
        "F.train(u = 0, empRecs = [data_mean], num_epochs = num_epochs, TPperWindow = TPperWindow, learningrate = 0.05)"
      ]
    },
    {
      "cell_type": "markdown",
      "metadata": {},
      "source": [
        "Plots of loss over Training\n\n"
      ]
    },
    {
      "cell_type": "code",
      "execution_count": null,
      "metadata": {
        "collapsed": false
      },
      "outputs": [],
      "source": [
        "plt.plot(np.arange(1,len(F.trainingStats.loss)+1), F.trainingStats.loss)\nplt.title(\"Total Loss over Training Epochs\")"
      ]
    },
    {
      "cell_type": "markdown",
      "metadata": {},
      "source": [
        "Plots of parameters values over Training\n\n"
      ]
    },
    {
      "cell_type": "code",
      "execution_count": null,
      "metadata": {
        "collapsed": false
      },
      "outputs": [],
      "source": [
        "plt.plot(F.trainingStats.fit_params['g_EE'], label = \"g_EE\")\nplt.plot(F.trainingStats.fit_params['g_EI'], label = \"g_EI\")\nplt.plot(F.trainingStats.fit_params['g_IE'], label = \"g_IE\")\nplt.legend()\nplt.title(\"Local Coupling Variables Changing Over Training Epochs\")"
      ]
    },
    {
      "cell_type": "markdown",
      "metadata": {},
      "source": [
        "## Model Evaluation (with 20 window for warmup)\n\n\n"
      ]
    },
    {
      "cell_type": "code",
      "execution_count": null,
      "metadata": {
        "collapsed": false
      },
      "outputs": [],
      "source": [
        "F.evaluate(u = 0, empRec = data_mean, TPperWindow = TPperWindow, base_window_num = 20)"
      ]
    },
    {
      "cell_type": "markdown",
      "metadata": {},
      "source": [
        "Plot SC and fitted SC\n\n"
      ]
    },
    {
      "cell_type": "code",
      "execution_count": null,
      "metadata": {
        "collapsed": false
      },
      "outputs": [],
      "source": [
        "fig, ax = plt.subplots(1, 2, figsize=(5, 4))\nim0 = ax[0].imshow(sc, cmap='bwr', vmin = 0.0, vmax = 0.05)\nax[0].set_title('The empirical SC')\nfig.colorbar(im0, ax=ax[0], fraction=0.046, pad=0.04)\nim1 = ax[1].imshow(F.model.sc_fitted.detach().numpy(), cmap='bwr', vmin = 0.0, vmax = 0.05)\nax[1].set_title('The fitted SC')\nfig.colorbar(im1, ax=ax[1], fraction=0.046, pad=0.04)\nplt.show()"
      ]
    },
    {
      "cell_type": "markdown",
      "metadata": {},
      "source": [
        "Plot E I and simulated BOLD\n\n"
      ]
    },
    {
      "cell_type": "code",
      "execution_count": null,
      "metadata": {
        "collapsed": false
      },
      "outputs": [],
      "source": [
        "fig, ax = plt.subplots(1, 3, figsize=(12, 8))\nax[0].plot(F.lastRec['E'].npTS().T)\nax[0].set_title('Test: E')\nax[1].plot(F.lastRec['I'].npTS().T)\nax[1].set_title('Test: I')\nax[2].plot(F.lastRec['bold'].npTS().T)\nax[2].set_title('Test: BOLD')\nplt.show()"
      ]
    },
    {
      "cell_type": "markdown",
      "metadata": {},
      "source": [
        "Plot the FC and the test FC\n\n"
      ]
    },
    {
      "cell_type": "code",
      "execution_count": null,
      "metadata": {
        "collapsed": false
      },
      "outputs": [],
      "source": [
        "fig, ax = plt.subplots(1, 2, figsize=(5, 4))\nim0 = ax[0].imshow(fc_emp, cmap='bwr')\nax[0].set_title('The empirical FC')\nfig.colorbar(im0, ax=ax[0], fraction=0.046, pad=0.04)\nim1 = ax[1].imshow(np.corrcoef(F.lastRec['bold'].npTS()), cmap='bwr')\nax[1].set_title('The simulated FC')\nfig.colorbar(im1, ax=ax[1], fraction=0.046, pad=0.04)\nplt.show()"
      ]
    }
  ],
  "metadata": {
    "kernelspec": {
      "display_name": "Python 3",
      "language": "python",
      "name": "python3"
    },
    "language_info": {
      "codemirror_mode": {
        "name": "ipython",
        "version": 3
      },
      "file_extension": ".py",
      "mimetype": "text/x-python",
      "name": "python",
      "nbconvert_exporter": "python",
      "pygments_lexer": "ipython3",
      "version": "3.9.17"
    }
  },
  "nbformat": 4,
  "nbformat_minor": 0
}