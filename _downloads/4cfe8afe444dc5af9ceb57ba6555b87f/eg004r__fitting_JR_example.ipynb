{
  "cells": [
    {
      "cell_type": "code",
      "execution_count": null,
      "metadata": {
        "collapsed": false
      },
      "outputs": [],
      "source": [
        "%matplotlib inline"
      ]
    },
    {
      "cell_type": "markdown",
      "metadata": {},
      "source": [
        "\n# Fitting JR model (Tepit data)\n"
      ]
    },
    {
      "cell_type": "code",
      "execution_count": null,
      "metadata": {
        "collapsed": false
      },
      "outputs": [],
      "source": [
        ""
      ]
    },
    {
      "cell_type": "markdown",
      "metadata": {},
      "source": [
        "## Importage\n\n\n"
      ]
    },
    {
      "cell_type": "code",
      "execution_count": null,
      "metadata": {
        "collapsed": false
      },
      "outputs": [],
      "source": [
        "# os stuff\nimport os\nimport sys\nsys.path.append('..')\n\n# whobpyt stuff\nimport whobpyt\nfrom whobpyt.datatypes import par, Recording\nfrom whobpyt.models.JansenRit import RNNJANSEN, ParamsJR\nfrom whobpyt.optimization.custom_cost_JR import CostsJR\nfrom whobpyt.run import Model_fitting\n\n# array and pd stuff\nimport numpy as np\nimport pandas as pd\nimport scipy.io\n\n\n# viz stuff\nimport matplotlib.pyplot as plt\n\n#gdown\nimport gdown"
      ]
    },
    {
      "cell_type": "markdown",
      "metadata": {},
      "source": [
        "define destination path and download data\n\n"
      ]
    },
    {
      "cell_type": "code",
      "execution_count": null,
      "metadata": {
        "collapsed": false
      },
      "outputs": [],
      "source": [
        "des_dir = '../'\nif not os.path.exists(des_dir):\n    os.makedirs(des_dir)  # create folder if it does not exist\nurl = 'https://drive.google.com/drive/folders/1uXrtehuMlLBvPCV8zDaUYxF-MoMaD0fk'\nos.chdir(des_dir)\ngdown.download_folder(url, quiet = True, use_cookies = False)\nos.chdir('examples/')"
      ]
    },
    {
      "cell_type": "markdown",
      "metadata": {},
      "source": [
        "get  EEG data\n\n"
      ]
    },
    {
      "cell_type": "code",
      "execution_count": null,
      "metadata": {
        "collapsed": false
      },
      "outputs": [],
      "source": [
        "base_dir = '../Tepit/'\neeg_file = base_dir + 'eeg_data.npy'\neeg_data_all = np.load(eeg_file)\neeg_data = eeg_data_all.mean(0) \n\neeg_data = eeg_data[:,700:1100] / 12"
      ]
    },
    {
      "cell_type": "markdown",
      "metadata": {},
      "source": [
        "get stimulus weights on regions\n\n"
      ]
    },
    {
      "cell_type": "code",
      "execution_count": null,
      "metadata": {
        "collapsed": false
      },
      "outputs": [],
      "source": [
        "ki0 =np.loadtxt(base_dir + 'stim_weights.txt')[:,np.newaxis]"
      ]
    },
    {
      "cell_type": "markdown",
      "metadata": {},
      "source": [
        "get SC and distance template\n\n"
      ]
    },
    {
      "cell_type": "code",
      "execution_count": null,
      "metadata": {
        "collapsed": false
      },
      "outputs": [],
      "source": [
        "sc_file = base_dir + 'Schaefer2018_200Parcels_7Networks_count.csv'\ndist_file = base_dir + 'Schaefer2018_200Parcels_7Networks_distance.csv'\nsc_df = pd.read_csv(sc_file, header=None, sep=' ')\nsc = sc_df.values\ndist_df = pd.read_csv(dist_file, header=None, sep=' ')\ndist = dist_df.values\nsc = np.log1p(sc) / np.linalg.norm(np.log1p(sc))"
      ]
    },
    {
      "cell_type": "markdown",
      "metadata": {},
      "source": [
        "define options for JR model\n\n"
      ]
    },
    {
      "cell_type": "code",
      "execution_count": null,
      "metadata": {
        "collapsed": false
      },
      "outputs": [],
      "source": [
        "node_size = sc.shape[0]\n\noutput_size = eeg_data.shape[0]\nTPperWindow = 20\nstep_size = 0.0001\nnum_epochs = 20\ntr = 0.001\nstate_size = 6\nbase_batch_num = 200\ntime_dim = 400\nstate_size = 6\nbase_batch_num = 20\nhidden_size = int(tr/step_size)"
      ]
    },
    {
      "cell_type": "markdown",
      "metadata": {},
      "source": [
        "prepare data structure of the model\n\n"
      ]
    },
    {
      "cell_type": "code",
      "execution_count": null,
      "metadata": {
        "collapsed": false
      },
      "outputs": [],
      "source": [
        "print(eeg_data.shape)\nEEGstep = tr\ndata_mean = Recording(eeg_data, EEGstep) #dataloader(eeg_data.T, num_epochs, batch_size)"
      ]
    },
    {
      "cell_type": "markdown",
      "metadata": {},
      "source": [
        "get model parameters structure and define the fitted parameters by setting non-zero variance for the model\n\n"
      ]
    },
    {
      "cell_type": "code",
      "execution_count": null,
      "metadata": {
        "collapsed": false
      },
      "outputs": [],
      "source": [
        "lm = np.zeros((output_size,200))\nlm_v = np.zeros((output_size,200))\nparams = ParamsJR(A = par(3.25), a= par(100,100, 2, True, True), B = par(22), b = par(50, 50, 1, True, True), g=par(40,40,2, True, True), g_f=par(1), g_b=par(1), \\\n                  c1 = par(135, 135, 1, True, True), c2 = par(135*0.8, 135*0.8, 1, True, True), c3 = par(135*0.25, 135*0.25, 1, True, True), c4 = par(135*0.25, 135*0.25, 1, True, True),\\\n                  std_in= par(1,1, 1/10, True, True), vmax= par(5), v0=par(6), r=par(0.56), y0=par(2, 2, 1/4, True, True),\\\n                  mu = par(1., 1., 0.4, True, True), #k = [10, .3],\n                  #cy0 = [5, 0], ki=[ki0, 0], k_aud=[k_aud0, 0], lm=[lm, 1.0 * np.ones((output_size, 200))+lm_v], \\\n                  cy0 = par(50, 50, 1, True, True), ki=par(ki0), lm=par(lm, lm, 5 * np.ones((output_size, node_size))+lm_v, True, True))"
      ]
    },
    {
      "cell_type": "markdown",
      "metadata": {},
      "source": [
        "call model want to fit\n\n"
      ]
    },
    {
      "cell_type": "code",
      "execution_count": null,
      "metadata": {
        "collapsed": false
      },
      "outputs": [],
      "source": [
        "model = RNNJANSEN(node_size, TPperWindow, step_size, output_size, tr, sc, lm, dist, True, False, params)"
      ]
    },
    {
      "cell_type": "markdown",
      "metadata": {},
      "source": [
        "create objective function\n\n"
      ]
    },
    {
      "cell_type": "code",
      "execution_count": null,
      "metadata": {
        "collapsed": false
      },
      "outputs": [],
      "source": [
        "ObjFun = CostsJR()"
      ]
    },
    {
      "cell_type": "markdown",
      "metadata": {},
      "source": [
        "call model fit\n\n"
      ]
    },
    {
      "cell_type": "code",
      "execution_count": null,
      "metadata": {
        "collapsed": false
      },
      "outputs": [],
      "source": [
        "F = Model_fitting(model, ObjFun)"
      ]
    },
    {
      "cell_type": "markdown",
      "metadata": {},
      "source": [
        "## Model Training\n\n\n"
      ]
    },
    {
      "cell_type": "code",
      "execution_count": null,
      "metadata": {
        "collapsed": false
      },
      "outputs": [],
      "source": [
        "u = np.zeros((node_size,hidden_size,time_dim))\nu[:,:,110:120]= 200\nF.train(u = u, empRecs = [data_mean], num_epochs = num_epochs, TPperWindow = TPperWindow)"
      ]
    },
    {
      "cell_type": "markdown",
      "metadata": {},
      "source": [
        "Plots of loss over Training\n\n"
      ]
    },
    {
      "cell_type": "code",
      "execution_count": null,
      "metadata": {
        "collapsed": false
      },
      "outputs": [],
      "source": [
        "plt.plot(np.arange(1,len(F.trainingStats.loss)+1), F.trainingStats.loss)\nplt.title(\"Total Loss over Training Epochs\")"
      ]
    },
    {
      "cell_type": "markdown",
      "metadata": {},
      "source": [
        "Plots of parameter values over Training\n\n"
      ]
    },
    {
      "cell_type": "code",
      "execution_count": null,
      "metadata": {
        "collapsed": false
      },
      "outputs": [],
      "source": [
        "plt.plot(F.trainingStats.fit_params['a'], label = \"a\")\nplt.plot(F.trainingStats.fit_params['b'], label = \"b\")\nplt.plot(F.trainingStats.fit_params['c1'], label = \"c1\")\nplt.plot(F.trainingStats.fit_params['c2'], label = \"c2\")\nplt.plot(F.trainingStats.fit_params['c3'], label = \"c3\")\nplt.plot(F.trainingStats.fit_params['c4'], label = \"c4\")\nplt.legend()\nplt.title(\"Select Variables Changing Over Training Epochs\")"
      ]
    },
    {
      "cell_type": "markdown",
      "metadata": {},
      "source": [
        "## Model Evaluation (with 20 window for warmup)\n\n\n"
      ]
    },
    {
      "cell_type": "code",
      "execution_count": null,
      "metadata": {
        "collapsed": false
      },
      "outputs": [],
      "source": [
        "F.evaluate(u = u, empRec = data_mean, TPperWindow = TPperWindow, base_window_num = 20)"
      ]
    },
    {
      "cell_type": "markdown",
      "metadata": {},
      "source": [
        "Plot SC and fitted SC\n\n"
      ]
    },
    {
      "cell_type": "code",
      "execution_count": null,
      "metadata": {
        "collapsed": false
      },
      "outputs": [],
      "source": [
        "fig, ax = plt.subplots(1, 2, figsize=(5, 4))\nim0 = ax[0].imshow(sc, cmap='bwr', vmin = 0.0, vmax = 0.02)\nax[0].set_title('The empirical SC')\nfig.colorbar(im0, ax=ax[0], fraction=0.046, pad=0.04)\nim1 = ax[1].imshow(F.model.sc_fitted.detach().numpy(), cmap='bwr', vmin = 0.0, vmax = 0.02)\nax[1].set_title('The fitted SC')\nfig.colorbar(im1, ax=ax[1], fraction=0.046, pad=0.04)\nplt.show()"
      ]
    },
    {
      "cell_type": "markdown",
      "metadata": {},
      "source": [
        "Plot the EEG\n\n"
      ]
    },
    {
      "cell_type": "code",
      "execution_count": null,
      "metadata": {
        "collapsed": false
      },
      "outputs": [],
      "source": [
        "fig, ax = plt.subplots(1,3, figsize=(12,8))\nax[0].plot(F.lastRec['P'].npTS().T)\nax[0].set_title('Test: sourced EEG')\nax[1].plot(F.lastRec[\"eeg\"].npTS().T)\nax[1].set_title('Test')\nax[2].plot(eeg_data.T)\nax[2].set_title('empirical')\nplt.show()"
      ]
    }
  ],
  "metadata": {
    "kernelspec": {
      "display_name": "Python 3",
      "language": "python",
      "name": "python3"
    },
    "language_info": {
      "codemirror_mode": {
        "name": "ipython",
        "version": 3
      },
      "file_extension": ".py",
      "mimetype": "text/x-python",
      "name": "python",
      "nbconvert_exporter": "python",
      "pygments_lexer": "ipython3",
      "version": "3.9.17"
    }
  },
  "nbformat": 4,
  "nbformat_minor": 0
}